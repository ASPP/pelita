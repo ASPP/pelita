{
  "cells": [
    {
      "cell_type": "markdown",
      "source": [
        "# Using Pelita with Numpy and Matplotlib"
      ],
      "metadata": {}
    },
    {
      "cell_type": "code",
      "source": [
        "import pelita as pl\n",
        "from matplotlib import pyplot as plt\n",
        "import numpy as np"
      ],
      "outputs": [],
      "execution_count": 1,
      "metadata": {
        "collapsed": false,
        "outputHidden": false,
        "inputHidden": false
      }
    },
    {
      "cell_type": "markdown",
      "source": [
        "## Setup a toy game state\n",
        "We start by accessing layout from the pelita layouts."
      ],
      "metadata": {}
    },
    {
      "cell_type": "code",
      "source": [
        "layout_str = pl.utils.load_builtin_layout(\"normal_without_dead_ends_001\", is_blue=True)"
      ],
      "outputs": [],
      "execution_count": 2,
      "metadata": {
        "collapsed": false,
        "outputHidden": false,
        "inputHidden": false
      }
    },
    {
      "cell_type": "markdown",
      "source": [
        "and setting up a test game to get a bot object which will have all the information about the game."
      ],
      "metadata": {}
    },
    {
      "cell_type": "code",
      "source": [
        "bot = pl.utils.setup_test_game(layout=layout_str, is_blue=True)"
      ],
      "outputs": [],
      "execution_count": 3,
      "metadata": {
        "collapsed": false,
        "outputHidden": false,
        "inputHidden": false
      }
    },
    {
      "cell_type": "markdown",
      "source": [
        "## Visualize with Matplotlib\n",
        "We can use pyplot to visualize the game state. You can use `plt.scatter()` to add points to a plot. Watch out though, scatter takes a list of x and a list of y coordinates, not a list of (x,y) tuples.\n",
        "\nLet's start by defining two functions that will help us draw the main game elements of Pelita using matplotlib."
      ],
      "metadata": {}
    },
    {
      "cell_type": "code",
      "source": [
        "def draw_coords(coords, ax, params={}):\n",
        "    \"\"\"\n",
        "    Takes a list of coordinates and draws them as scatter elements onto a pyplot ax object\n",
        "\n",
        "    Input:\n",
        "    - coords: list of tuples of x,y coordinates\n",
        "    - ax: a pyplot ax object\n",
        "    - params: parameters to be passed to the scatter function (e.g. shape, size, color, etc.)\n",
        "    Returns:\n",
        "    - ax: a pyplot ax object\n",
        "    \"\"\"\n",
        "    if type(coords)!=list:\n",
        "        coords_x, coords_y = coords\n",
        "    else:\n",
        "        # get seperate lists of x and y coordinates from a list of tuples\n",
        "        coords_x, coords_y = zip(*coords)\n",
        "    ax.scatter(coords_x, coords_y, **params)\n",
        "    return ax"
      ],
      "outputs": [],
      "execution_count": 4,
      "metadata": {
        "collapsed": false,
        "outputHidden": false,
        "inputHidden": false
      }
    },
    {
      "cell_type": "markdown",
      "source": [
        "The `draw_game_elements` takes the information about food, bot positions, and wall positions from the bot object and adds them to a pyplot, with nice shapes and colors to distinguish them."
      ],
      "metadata": {}
    },
    {
      "cell_type": "code",
      "source": [
        "def draw_game_elements(bot, ax):\n",
        "    \"\"\"\n",
        "    Draws game state as scatter elements given a bot object.\n",
        "\n",
        "    Input:\n",
        "    - bot : pelita bot object\n",
        "    - ax : a pyplot axis object\n",
        "    Returns:\n",
        "    -ax : a pyplot axis object\n",
        "    \"\"\"\n",
        "    # Depending which team we are, we need to color the board appropriately\n",
        "    if bot.is_blue:\n",
        "        col_home_food = \"blue\"\n",
        "        col_home_b1 = \"green\"\n",
        "        col_home_b2 = \"darkgreen\"\n",
        "        col_enemy_food = \"red\"\n",
        "        col_enemy_b1 = \"orange\"\n",
        "        col_enemy_b2 = \"darkred\"\n",
        "    else:\n",
        "        col_home_food = \"red\"\n",
        "        col_home_b1 = \"orange\"\n",
        "        col_home_b2 = \"darkred\"\n",
        "        col_enemy_food = \"blue\"\n",
        "        col_enemy_b1 = \"green\"\n",
        "        col_enemy_b2 = \"darkgreen\"\n",
        "\n",
        "    # Then we call the draw_coords function for each type of element we want to draw.\n",
        "    # Each can be customized with whichever color, shape and size you want.\n",
        "    ax = draw_coords(bot.position, ax, {\"c\": col_home_b1, \"marker\": \"*\"})\n",
        "    ax = draw_coords(bot.walls, ax, {\"c\": \"black\", \"marker\": \"s\", \"s\": 20})\n",
        "    ax = draw_coords(bot.other.position, ax, {\"c\": col_home_b2, \"marker\": \"*\"})\n",
        "    ax = draw_coords(bot.food, ax, {\"c\": col_home_food, \"s\": 15})\n",
        "    ax = draw_coords(bot.enemy[0].food, ax, {\"c\": col_enemy_food, \"s\": 15})\n",
        "    ax = draw_coords(bot.enemy[0].position, ax, {\"c\": col_enemy_b1, \"marker\": \"*\"})\n",
        "    ax = draw_coords(bot.enemy[1].position, ax, {\"c\": col_enemy_b2, \"marker\": \"*\"})\n",
        "    ax.axvline(np.sum(ax.get_xlim()) / 2, c=\"black\")\n",
        "    # This is to get the coordinate system to have it's origin in the top left\n",
        "    yd, yu = ax.get_ylim()\n",
        "    if yd < yu:\n",
        "        ax.invert_yaxis()\n",
        "    return ax"
      ],
      "outputs": [],
      "execution_count": 5,
      "metadata": {
        "collapsed": false,
        "outputHidden": false,
        "inputHidden": false
      }
    },
    {
      "cell_type": "markdown",
      "source": [
        "Let's try:"
      ],
      "metadata": {}
    },
    {
      "cell_type": "code",
      "source": [
        "fig, ax = plt.subplots()\n",
        "ax = draw_game_elements(bot, ax)"
      ],
      "outputs": [
        {
          "output_type": "display_data",
          "data": {
            "text/plain": [
              "<Figure size 432x288 with 1 Axes>"
            ],
            "image/png": "[encoded data removed]"
          },
          "metadata": {
            "needs_background": "light"
          }
        }
      ],
      "execution_count": 6,
      "metadata": {
        "collapsed": false,
        "outputHidden": false,
        "inputHidden": false
      }
    },
    {
      "cell_type": "markdown",
      "source": [
        "## Using 2d Numpy arrays\n",
        "You can also use numpy matrices. This may be useful for visualization and computation of the next move. The following code might help you get started along this route. \n",
        "\n",
        "The first thing we can do is to make a 2d Numpy Array of the same size as our map and fill fields that have a wall with ones and the rest with zeros.\n",
        "Be aware that the indexing of numpy matrices, works by indexing as \\[row,column] and not by \\[x,y] coordinates as the pelita interface does. "
      ],
      "metadata": {}
    },
    {
      "cell_type": "code",
      "source": [
        "def make_wall_map(bot):\n",
        "    \"\"\"\n",
        "    Computes a numpy array which takes the value 1 at coordinates that have a wall and zero everywhere else\n",
        "    Input:\n",
        "    - bot: pelita bot object\n",
        "    Returns:\n",
        "    - mat: numpy array\n",
        "    \"\"\"\n",
        "    maze_width = max([x for x, y in bot.walls])+1\n",
        "    maze_height = max([y for x, y in bot.walls])+1\n",
        "    wall_map = np.zeros((maze_height, maze_width))\n",
        "    # get seperate lists of x and y coordinates from a list of tuples\n",
        "    wall_x, wall_y = zip(*bot.walls)\n",
        "    # matrices have y,x indexing!\n",
        "    wall_map[wall_y, wall_x] = 1\n",
        "    return wall_map"
      ],
      "outputs": [],
      "execution_count": 7,
      "metadata": {
        "collapsed": false,
        "outputHidden": false,
        "inputHidden": false
      }
    },
    {
      "cell_type": "markdown",
      "source": [
        "Matplotlib's `imshow`function lets you visualize 2d arrays as a heat map."
      ],
      "metadata": {}
    },
    {
      "cell_type": "code",
      "source": [
        "walls = make_wall_map(bot)\n",
        "fig, ax = plt.subplots()\n",
        "ax.imshow(walls)"
      ],
      "outputs": [
        {
          "output_type": "execute_result",
          "execution_count": 8,
          "data": {
            "text/plain": [
              "<matplotlib.image.AxesImage at 0x11e62a2e8>"
            ]
          },
          "metadata": {}
        },
        {
          "output_type": "display_data",
          "data": {
            "text/plain": [
              "<Figure size 432x288 with 1 Axes>"
            ],
            "image/png": "[encoded data removed]"
          },
          "metadata": {
            "needs_background": "light"
          }
        }
      ],
      "execution_count": 8,
      "metadata": {
        "collapsed": false,
        "outputHidden": false,
        "inputHidden": false
      }
    },
    {
      "cell_type": "markdown",
      "source": [
        "Now we can put our scatter plot on top."
      ],
      "metadata": {}
    },
    {
      "cell_type": "code",
      "source": [
        "fig, ax = plt.subplots()\n",
        "ax.imshow(walls, cmap=\"binary\")\n",
        "ax = draw_game_elements(bot, ax)"
      ],
      "outputs": [
        {
          "output_type": "display_data",
          "data": {
            "text/plain": [
              "<Figure size 432x288 with 1 Axes>"
            ],
            "image/png": "[encoded data removed]"
          },
          "metadata": {
            "needs_background": "light"
          }
        }
      ],
      "execution_count": 9,
      "metadata": {
        "collapsed": false,
        "outputHidden": false,
        "inputHidden": false
      }
    },
    {
      "cell_type": "markdown",
      "source": [
        "This might also come in handy when you are looking at possible next moves. For example you could visualize your bot's legal moves like this:"
      ],
      "metadata": {
        "collapsed": false,
        "outputHidden": false,
        "inputHidden": false
      }
    },
    {
      "cell_type": "code",
      "source": [
        "maze_width = max([x for x, y in bot.walls])+1\n",
        "maze_height = max([y for x, y in bot.walls])+1\n",
        "legpos = np.zeros((maze_height, maze_width))"
      ],
      "outputs": [],
      "execution_count": 10,
      "metadata": {
        "collapsed": false,
        "outputHidden": false,
        "inputHidden": false
      }
    },
    {
      "cell_type": "code",
      "source": [
        "def replace_coords(mat, coords, val):\n",
        "    \"\"\"\n",
        "    Computes a numpy array which takes the value val\n",
        "    Input:\n",
        "    - mat: numpy array\n",
        "    - coords: list of tuples of x,y coordinates\n",
        "    - val: value to write into the appropriate fields\n",
        "    Returns:\n",
        "    - mat: numpy array\n",
        "    \"\"\"\n",
        "    # get seperate lists of x and y coordinates from a list of tuples\n",
        "    coords_x, coords_y = zip(*coords)\n",
        "    # matrices have y,x indexing!\n",
        "    mat[coords_y, coords_x] = val\n",
        "    return(mat)"
      ],
      "outputs": [],
      "execution_count": 14,
      "metadata": {
        "collapsed": false,
        "outputHidden": false,
        "inputHidden": false
      }
    },
    {
      "cell_type": "code",
      "source": [
        "legpos = replace_coords(legpos, bot.legal_positions, 1)"
      ],
      "outputs": [],
      "execution_count": 15,
      "metadata": {
        "collapsed": false,
        "outputHidden": false,
        "inputHidden": false
      }
    },
    {
      "cell_type": "code",
      "source": [
        "fig, ax = plt.subplots()\n",
        "ax.imshow(legpos, cmap=\"Reds\")"
      ],
      "outputs": [
        {
          "output_type": "execute_result",
          "execution_count": 18,
          "data": {
            "text/plain": [
              "<matplotlib.image.AxesImage at 0x11ee7d588>"
            ]
          },
          "metadata": {}
        },
        {
          "output_type": "display_data",
          "data": {
            "text/plain": [
              "<Figure size 432x288 with 1 Axes>"
            ],
            "image/png": "[encoded data removed]"
          },
          "metadata": {
            "needs_background": "light"
          }
        }
      ],
      "execution_count": 18,
      "metadata": {
        "collapsed": false,
        "outputHidden": false,
        "inputHidden": false
      }
    },
    {
      "cell_type": "markdown",
      "source": [
        "And then add the game elements on top of the matrix:"
      ],
      "metadata": {}
    },
    {
      "cell_type": "code",
      "source": [
        "fig, ax = plt.subplots()\n",
        "ax.imshow(legpos, cmap=\"Reds\")\n",
        "ax = draw_game_elements(bot, ax)"
      ],
      "outputs": [
        {
          "output_type": "display_data",
          "data": {
            "text/plain": [
              "<Figure size 432x288 with 1 Axes>"
            ],
            "image/png": "[encoded data removed]"
          },
          "metadata": {
            "needs_background": "light"
          }
        }
      ],
      "execution_count": 22,
      "metadata": {
        "collapsed": false,
        "outputHidden": false,
        "inputHidden": false
      }
    },
    {
      "cell_type": "markdown",
      "source": [
        "There are many ways to use 2d Numpy arrays to help decide the next move. Expanding on the binary examples shown here you could use them to computing floating point weights or activations for the fields."
      ],
      "metadata": {}
    }
  ],
  "metadata": {
    "kernel_info": {
      "name": "pelita_env"
    },
    "language_info": {
      "name": "python",
      "version": "3.6.3",
      "mimetype": "text/x-python",
      "codemirror_mode": {
        "name": "ipython",
        "version": 3
      },
      "pygments_lexer": "ipython3",
      "nbconvert_exporter": "python",
      "file_extension": ".py"
    },
    "kernelspec": {
      "name": "pelita_env",
      "language": "python",
      "display_name": "Python3 (pelita_env)"
    },
    "nteract": {
      "version": "0.12.3"
    }
  },
  "nbformat": 4,
  "nbformat_minor": 4
}