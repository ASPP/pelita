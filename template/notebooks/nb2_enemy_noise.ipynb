{
  "cells": [
    {
      "cell_type": "markdown",
      "source": [
        "# Enemy Noise"
      ],
      "metadata": {}
    },
    {
      "cell_type": "code",
      "source": [
        "import pelita\n",
        "import matplotlib\n",
        "from matplotlib import pyplot as plt\n",
        "import numpy as np"
      ],
      "outputs": [],
      "execution_count": 7,
      "metadata": {
        "collapsed": false,
        "outputHidden": false,
        "inputHidden": false
      }
    },
    {
      "cell_type": "markdown",
      "source": [
        "First we define some helper functions. They are described in detail in `nb1_matplotlib_and_numpy.ipynb`."
      ],
      "metadata": {}
    },
    {
      "cell_type": "code",
      "source": [
        "def get_maze_dimensions(walls):\n",
        "    \"\"\"Takes a walls list and gives the width and height of the maze\"\"\"\n",
        "    maze_width = max([x for x, y in walls])+1\n",
        "    maze_height = max([y for x, y in walls])+1\n",
        "    return(maze_width, maze_height)"
      ],
      "outputs": [],
      "execution_count": 8,
      "metadata": {
        "collapsed": false,
        "outputHidden": false,
        "inputHidden": false
      }
    },
    {
      "cell_type": "code",
      "source": [
        "def draw_coords(coords, ax, params={}):\n",
        "    \"\"\"\n",
        "    Takes a list of coordinates and draws them as scatter elements onto a pyplot ax object\n",
        "\n",
        "    Input:\n",
        "    - coords: list of tuples of x,y coordinates\n",
        "    - ax: a pyplot ax object\n",
        "    - params: parameters to be passed to the scatter function (e.g. shape, size, color, etc.)\n",
        "    Returns:\n",
        "    - ax: a pyplot ax object\n",
        "    \"\"\"\n",
        "    if type(coords)!=list:\n",
        "        coords_x, coords_y = coords\n",
        "    else:\n",
        "        # get separate lists of x and y coordinates from a list of tuples\n",
        "        coords_x, coords_y = zip(*coords)\n",
        "    ax.scatter(coords_x, coords_y, **params)\n",
        "    return ax"
      ],
      "outputs": [],
      "execution_count": 9,
      "metadata": {
        "collapsed": false,
        "outputHidden": false,
        "inputHidden": false
      }
    },
    {
      "cell_type": "code",
      "source": [
        "def draw_game(bot, ax):\n",
        "    \"\"\"\n",
        "    Draws game state as scatter elements given a bot object.\n",
        "\n",
        "    Input:\n",
        "    - bot : pelita bot object\n",
        "    - ax : a pyplot axis object\n",
        "    Returns:\n",
        "    -ax : a pyplot axis object\n",
        "    \"\"\"\n",
        "    # Depending which team we are, we need to color the board appropriately\n",
        "    if bot.is_blue:\n",
        "        col_home_food = \"blue\"\n",
        "        col_home_b1 = \"green\"\n",
        "        col_home_b2 = \"darkgreen\"\n",
        "        col_enemy_food = \"red\"\n",
        "        col_enemy_b1 = \"orange\"\n",
        "        col_enemy_b2 = \"darkred\"\n",
        "    else:\n",
        "        col_home_food = \"red\"\n",
        "        col_home_b1 = \"orange\"\n",
        "        col_home_b2 = \"darkred\"\n",
        "        col_enemy_food = \"blue\"\n",
        "        col_enemy_b1 = \"green\"\n",
        "        col_enemy_b2 = \"darkgreen\"\n",
        "\n",
        "    # Then we call the draw_coords function for each type of element we want to draw.\n",
        "    # Each can be customized with whichever color, shape and size you want.\n",
        "    ax = draw_coords(bot.position, ax, {\"c\": col_home_b1, \"marker\": \"*\", \"s\": 400})\n",
        "    ax = draw_coords(bot.walls, ax, {\"c\": \"black\", \"marker\": \"s\", \"s\": 250})\n",
        "    ax = draw_coords(bot.other.position, ax, {\"c\": col_home_b2, \"marker\": \"*\", \"s\": 400})\n",
        "    ax = draw_coords(bot.food, ax, {\"c\": col_home_food, \"s\": 100})\n",
        "    ax = draw_coords(bot.enemy[0].food, ax, {\"c\": col_enemy_food, \"s\": 100})\n",
        "    ax = draw_coords(bot.enemy[0].position, ax, {\"c\": col_enemy_b1, \"marker\": \"*\", \"s\": 400})\n",
        "    ax = draw_coords(bot.enemy[1].position, ax, {\"c\": col_enemy_b2, \"marker\": \"*\", \"s\": 400})\n",
        "    ax.axvline(np.sum(ax.get_xlim()) / 2, c=\"black\")\n",
        "    # This is to get the coordinate system to have it's origin in the top left\n",
        "    yd, yu = ax.get_ylim()\n",
        "    if yd < yu:\n",
        "        ax.invert_yaxis()\n",
        "    return ax"
      ],
      "outputs": [],
      "execution_count": 10,
      "metadata": {
        "collapsed": false,
        "outputHidden": false,
        "inputHidden": false
      }
    },
    {
      "cell_type": "markdown",
      "source": [
        "## Enemy Noise\n",
        "When they are more than 5 fields away, the position given by `bot.enemy.position` is noisy. As the documentation says \n",
        "*\"your bot has a sight-radius of 5 squares. This means that when an enemy bot is located more than 5 squares away from your bot, bot.enemy\\[0].position will not be exact and bot.enemy\\[0].is_noisy will be True.\"*"
      ],
      "metadata": {}
    },
    {
      "cell_type": "code",
      "source": [
        "layout_str=\"\"\"\n",
        "################################\n",
        "#   ...    #. .         . #    #\n",
        "# #####.## ..# #######.##   ?  #\n",
        "#.  0 .E.  # # ##    .  # #    #\n",
        "#  ###### ## #        #.#.     #\n",
        "#  #       #           .# #.## #\n",
        "#.     #  ..     ..###### # .# #\n",
        "##..######  #####  ..    .#.   #\n",
        "#   .#.    ..  #####  ######..##\n",
        "# #. # ######..     ..  #     .#\n",
        "# ##.# #.           #       #  #\n",
        "#     .#.#        # ## ######  #\n",
        "#    # #  .    ## # #  . .    .#\n",
        "#      ##.####### #.. ##.##### #\n",
        "#1   # .         . .#    ...   #\n",
        "################################\n",
        "\"\"\"\n",
        "bot = pelita.utils.setup_test_game(layout=layout_str, is_blue=True)\n",
        "fig, ax = plt.subplots(figsize=(20,10))\n",
        "ax = draw_game(bot, ax)"
      ],
      "outputs": [
        {
          "output_type": "display_data",
          "data": {
            "text/plain": [
              "<Figure size 1440x720 with 1 Axes>"
            ],
            "image/png": "[encoded data removed]"
          },
          "metadata": {
            "needs_background": "light"
          }
        }
      ],
      "execution_count": 13,
      "metadata": {
        "collapsed": false,
        "outputHidden": false,
        "inputHidden": false
      }
    },
    {
      "cell_type": "markdown",
      "source": [
        "We can check the noisiness of the bots like so:"
      ],
      "metadata": {}
    },
    {
      "cell_type": "code",
      "source": [
        "print(\"enemy 0 is noisy: \", bot.enemy[0].is_noisy)\n",
        "print(\"enemy 1 is noisy: \", bot.enemy[1].is_noisy)"
      ],
      "outputs": [
        {
          "output_type": "stream",
          "name": "stdout",
          "text": [
            "enemy 0 is noisy:  False\n",
            "enemy 1 is noisy:  True\n"
          ]
        }
      ],
      "execution_count": 14,
      "metadata": {
        "collapsed": false,
        "outputHidden": false,
        "inputHidden": false
      }
    },
    {
      "cell_type": "markdown",
      "source": [
        "Let's find all the fields the enemy could be on. Any field that is 5 horizontal or vertical steps away is potentially the true enemy position"
      ],
      "metadata": {}
    },
    {
      "cell_type": "code",
      "source": [
        "maze_width, maze_height = get_maze_dimensions(bot.walls)"
      ],
      "outputs": [],
      "execution_count": 17,
      "metadata": {
        "collapsed": false,
        "outputHidden": false,
        "inputHidden": false
      }
    },
    {
      "cell_type": "markdown",
      "source": [
        "This gives us a an array where each field holds the number of horizontal or \n",
        "vertical fields it is away from enemy\\[1]"
      ],
      "metadata": {
        "collapsed": false,
        "outputHidden": false,
        "inputHidden": false
      }
    },
    {
      "cell_type": "code",
      "source": [
        "yy, xx = np.mgrid[0:maze_height, 0:maze_width]\n",
        "fields_away = abs(xx - bot.enemy[1].position[0]) + abs(yy - bot.enemy[1].position[1])"
      ],
      "outputs": [],
      "execution_count": 52,
      "metadata": {
        "collapsed": false,
        "outputHidden": false,
        "inputHidden": false
      }
    },
    {
      "cell_type": "markdown",
      "source": [
        "One approach is making each cell hold the probability of an enemy being in this location. For this we need to normalize our array"
      ],
      "metadata": {
        "collapsed": false,
        "outputHidden": false,
        "inputHidden": false
      }
    },
    {
      "cell_type": "code",
      "source": [
        "enemy_prob = fields_away.copy()\n",
        "# First we transform it into a binary array (enemy could be here vs. not)\n",
        "enemy_prob[enemy_prob<=5] = 1 \n",
        "enemy_prob[enemy_prob>5] = 0\n",
        "# Then just turn into a probability density\n",
        "enemy_prob = enemy_prob/np.sum(enemy_prob)\n",
        "# For visualization purposes we add a small eps value to the zeros, \n",
        "# so we can display log-values. Otherwise we can't see small activations\n",
        "enemy_prob[enemy_prob==0] = np.finfo(float).eps"
      ],
      "outputs": [],
      "execution_count": 57,
      "metadata": {
        "collapsed": false,
        "outputHidden": false,
        "inputHidden": false
      }
    },
    {
      "cell_type": "code",
      "source": [
        "plt.imshow(enemy_prob)"
      ],
      "outputs": [
        {
          "output_type": "execute_result",
          "execution_count": 59,
          "data": {
            "text/plain": [
              "<matplotlib.image.AxesImage at 0x1318c6be0>"
            ]
          },
          "metadata": {}
        },
        {
          "output_type": "display_data",
          "data": {
            "text/plain": [
              "<Figure size 432x288 with 1 Axes>"
            ],
            "image/png": "[encoded data removed]"
          },
          "metadata": {
            "needs_background": "light"
          }
        }
      ],
      "execution_count": 59,
      "metadata": {
        "collapsed": false,
        "outputHidden": false,
        "inputHidden": false
      }
    },
    {
      "cell_type": "markdown",
      "source": [
        "For enemy\\[0] we know exactly where it is, so we can just add that position with a probability of 1"
      ],
      "metadata": {
        "collapsed": false,
        "outputHidden": false,
        "inputHidden": false
      }
    },
    {
      "cell_type": "code",
      "source": [
        "enemy_prob[bot.enemy[0].position[1], bot.enemy[0].position[0]] = 1"
      ],
      "outputs": [],
      "execution_count": 60,
      "metadata": {
        "collapsed": false,
        "outputHidden": false,
        "inputHidden": false
      }
    },
    {
      "cell_type": "markdown",
      "source": [
        "Plot the Probabilities using pyplot:"
      ],
      "metadata": {}
    },
    {
      "cell_type": "code",
      "source": [
        "fig, ax = plt.subplots(figsize=(20,10))\n",
        "ax.imshow(enemy_prob, norm=matplotlib.colors.LogNorm(), cmap=\"Reds\")\n",
        "ax = draw_game(bot, ax)"
      ],
      "outputs": [
        {
          "output_type": "display_data",
          "data": {
            "text/plain": [
              "<Figure size 1440x720 with 1 Axes>"
            ],
            "image/png": "[encoded data removed]"
          },
          "metadata": {
            "needs_background": "light"
          }
        }
      ],
      "execution_count": 61,
      "metadata": {
        "collapsed": false,
        "outputHidden": false,
        "inputHidden": false
      }
    },
    {
      "cell_type": "markdown",
      "source": [
        "When the enemy is closer but just out of sight (e.g. 6 fields away), the noise makes it possible for the reported position to be right next to you. This example is shown below using the same procedure as above:"
      ],
      "metadata": {}
    },
    {
      "cell_type": "code",
      "source": [
        "layout_str=\"\"\"\n",
        "################################\n",
        "#   ...    #. .         . #    #\n",
        "# #####.## ..# #######.##      #\n",
        "#.  0 .?.  # # ##    .  # #    #\n",
        "#  ###### ## #        #.#.     #\n",
        "#  #       #           .# #.## #\n",
        "#.     #  ..     ..###### # .# #\n",
        "##..######  #####  ..    .#.   #\n",
        "#   .#.    ..  #####  ######..##\n",
        "# #. # ######..     ..  #     .#\n",
        "# ##.# #.           #       #  #\n",
        "#    E.#.#        # ## ######  #\n",
        "#    # #  .    ## # #  . .    .#\n",
        "#      ##.####### #.. ##.##### #\n",
        "#1   # .         . .#    ...   #\n",
        "################################\n",
        "\"\"\"\n",
        "bot = pelita.utils.setup_test_game(layout=layout_str, is_blue=True)\n",
        "maze_width, maze_height = get_maze_dimensions(bot.walls)\n",
        "yy, xx = np.mgrid[0:maze_height, 0:maze_width]\n",
        "fields_away = abs(xx - bot.enemy[1].position[0]) + abs(yy - bot.enemy[1].position[1])\n",
        "enemy_prob = fields_away.copy()\n",
        "enemy_prob[enemy_prob<=5] = 1 \n",
        "enemy_prob[enemy_prob>5] = 0\n",
        "enemy_prob = enemy_prob/np.sum(enemy_prob)\n",
        "enemy_prob[enemy_prob==0] = np.finfo(float).eps\n",
        "\n",
        "enemy_prob[bot.enemy[0].position[1], bot.enemy[0].position[0]] = 1\n",
        "\n",
        "fig, ax = plt.subplots(figsize=(20,10))\n",
        "ax.imshow(enemy_prob, norm=matplotlib.colors.LogNorm(), cmap=\"Reds\")\n",
        "ax = draw_game(bot, ax)"
      ],
      "outputs": [
        {
          "output_type": "display_data",
          "data": {
            "text/plain": [
              "<Figure size 1440x720 with 1 Axes>"
            ],
            "image/png": "[encoded data removed]"
          },
          "metadata": {
            "needs_background": "light"
          }
        }
      ],
      "execution_count": 66,
      "metadata": {
        "collapsed": false,
        "outputHidden": false,
        "inputHidden": false
      }
    },
    {
      "cell_type": "code",
      "source": [],
      "outputs": [],
      "execution_count": null,
      "metadata": {
        "collapsed": false,
        "outputHidden": false,
        "inputHidden": false
      }
    }
  ],
  "metadata": {
    "kernel_info": {
      "name": "pelita_env"
    },
    "language_info": {
      "name": "python",
      "version": "3.6.3",
      "mimetype": "text/x-python",
      "codemirror_mode": {
        "name": "ipython",
        "version": 3
      },
      "pygments_lexer": "ipython3",
      "nbconvert_exporter": "python",
      "file_extension": ".py"
    },
    "kernelspec": {
      "name": "pelita_env",
      "language": "python",
      "display_name": "Python3 (pelita_env)"
    },
    "nteract": {
      "version": "0.12.3"
    }
  },
  "nbformat": 4,
  "nbformat_minor": 4
}