{
  "cells": [
    {
      "cell_type": "markdown",
      "source": [
        "# Enemy Noise"
      ],
      "metadata": {}
    },
    {
      "cell_type": "code",
      "source": [
        "import pelita as pl\n",
        "import matplotlib\n",
        "from matplotlib import pyplot as plt\n",
        "import numpy as np"
      ],
      "outputs": [],
      "execution_count": 11,
      "metadata": {
        "collapsed": false,
        "outputHidden": false,
        "inputHidden": false
      }
    },
    {
      "cell_type": "markdown",
      "source": [
        "First we define some helper funtions. They are described in detail in `nb1_matplotlib_and_numpy.ipynb`."
      ],
      "metadata": {}
    },
    {
      "cell_type": "code",
      "source": [
        "def draw_coords(coords, ax, params={}):\n",
        "    \"\"\"\n",
        "    Takes a list of coordinates and draws them as scatter elements onto a pyplot ax object\n",
        "\n",
        "    Input:\n",
        "    - coords: list of tuples of x,y coordinates\n",
        "    - ax: a pyplot ax object\n",
        "    - params: parameters to be passed to the scatter function (e.g. shape, size, color, etc.)\n",
        "    Returns:\n",
        "    - ax: a pyplot ax object\n",
        "    \"\"\"\n",
        "    if type(coords)!=list:\n",
        "        coords_x, coords_y = coords\n",
        "    else:\n",
        "        # get seperate lists of x and y coordinates from a list of tuples\n",
        "        coords_x, coords_y = zip(*coords)\n",
        "    ax.scatter(coords_x, coords_y, **params)\n",
        "    return ax"
      ],
      "outputs": [],
      "execution_count": 12,
      "metadata": {
        "collapsed": false,
        "outputHidden": false,
        "inputHidden": false
      }
    },
    {
      "cell_type": "code",
      "source": [
        "def draw_game_elements(bot, ax):\n",
        "    \"\"\"\n",
        "    Draws game state as scatter elements given a bot object.\n",
        "\n",
        "    Input:\n",
        "    - bot : pelita bot object\n",
        "    - ax : a pyplot axis object\n",
        "    Returns:\n",
        "    -ax : a pyplot axis object\n",
        "    \"\"\"\n",
        "    # Depending which team we are, we need to color the board appropriately\n",
        "    if bot.is_blue:\n",
        "        col_home_food = \"blue\"\n",
        "        col_home_b1 = \"green\"\n",
        "        col_home_b2 = \"darkgreen\"\n",
        "        col_enemy_food = \"red\"\n",
        "        col_enemy_b1 = \"orange\"\n",
        "        col_enemy_b2 = \"darkred\"\n",
        "    else:\n",
        "        col_home_food = \"red\"\n",
        "        col_home_b1 = \"orange\"\n",
        "        col_home_b2 = \"darkred\"\n",
        "        col_enemy_food = \"blue\"\n",
        "        col_enemy_b1 = \"green\"\n",
        "        col_enemy_b2 = \"darkgreen\"\n",
        "\n",
        "    # Then we call the draw_coords function for each type of element we want to draw.\n",
        "    # Each can be customized with whichever color, shape and size you want.\n",
        "    ax = draw_coords(bot.position, ax, {\"c\": col_home_b1, \"marker\": \"*\"})\n",
        "    ax = draw_coords(bot.walls, ax, {\"c\": \"black\", \"marker\": \"s\", \"s\": 20})\n",
        "    ax = draw_coords(bot.other.position, ax, {\"c\": col_home_b2, \"marker\": \"*\"})\n",
        "    ax = draw_coords(bot.food, ax, {\"c\": col_home_food, \"s\": 15})\n",
        "    ax = draw_coords(bot.enemy[0].food, ax, {\"c\": col_enemy_food, \"s\": 15})\n",
        "    ax = draw_coords(bot.enemy[0].position, ax, {\"c\": col_enemy_b1, \"marker\": \"*\"})\n",
        "    ax = draw_coords(bot.enemy[1].position, ax, {\"c\": col_enemy_b2, \"marker\": \"*\"})\n",
        "    ax.axvline(np.sum(ax.get_xlim()) / 2, c=\"black\")\n",
        "    # This is to get the coordinate system to have it's origin in the top left\n",
        "    yd, yu = ax.get_ylim()\n",
        "    if yd < yu:\n",
        "        ax.invert_yaxis()\n",
        "    return ax"
      ],
      "outputs": [],
      "execution_count": 13,
      "metadata": {
        "collapsed": false,
        "outputHidden": false,
        "inputHidden": false
      }
    },
    {
      "cell_type": "markdown",
      "source": [
        "## Enemy Noise\n",
        "When they are more than 5 fields away, the position given by `bot.enemy.position` is noisy. This means that the true position of the enemy could be up to 5 fields away in any direction. For example"
      ],
      "metadata": {}
    },
    {
      "cell_type": "code",
      "source": [
        "layout_str=\"\"\"\n",
        "################################\n",
        "#   ...    #. .         . #    #\n",
        "# #####.## ..# #######.##   ?  #\n",
        "#.  0 .E.  # # ##    .  # #    #\n",
        "#  ###### ## #        #.#.     #\n",
        "#  #       #           .# #.## #\n",
        "#.     #  ..     ..###### # .# #\n",
        "##..######  #####  ..    .#.   #\n",
        "#   .#.    ..  #####  ######..##\n",
        "# #. # ######..     ..  #     .#\n",
        "# ##.# #.           #       #  #\n",
        "#     .#.#        # ## ######  #\n",
        "#    # #  .    ## # #  . .    .#\n",
        "#      ##.####### #.. ##.##### #\n",
        "#1   # .         . .#    ...   #\n",
        "################################\n",
        "\"\"\"\n",
        "bot = pl.utils.setup_test_game(layout=layout_str, is_blue=True)\n",
        "fig, ax = plt.subplots()\n",
        "ax = draw_game_elements(bot, ax)"
      ],
      "outputs": [
        {
          "output_type": "display_data",
          "data": {
            "text/plain": [
              "<Figure size 432x288 with 1 Axes>"
            ],
            "image/png": "[encoded data removed]"
          },
          "metadata": {
            "needs_background": "light"
          }
        }
      ],
      "execution_count": 14,
      "metadata": {
        "collapsed": false,
        "outputHidden": false,
        "inputHidden": false
      }
    },
    {
      "cell_type": "markdown",
      "source": [
        "In this case "
      ],
      "metadata": {}
    },
    {
      "cell_type": "code",
      "source": [
        "print(\"enemy 0 is noisy: \", bot.enemy[0].is_noisy)\n",
        "print(\"enemy 1 is noisy: \", bot.enemy[1].is_noisy)"
      ],
      "outputs": [
        {
          "output_type": "stream",
          "name": "stdout",
          "text": [
            "enemy 0 is noisy:  False\n",
            "enemy 1 is noisy:  True\n"
          ]
        }
      ],
      "execution_count": 15,
      "metadata": {
        "collapsed": false,
        "outputHidden": false,
        "inputHidden": false
      }
    },
    {
      "cell_type": "markdown",
      "source": [
        "Let's find all the fields the enemy could be on"
      ],
      "metadata": {}
    },
    {
      "cell_type": "code",
      "source": [
        "possible_ys = np.linspace(-5,5,11, dtype=int) + bot.enemy[1].position[1]\n",
        "possible_xs = np.linspace(-5,5,11, dtype=int) + bot.enemy[1].position[0]\n",
        "yy, xx = np.meshgrid(possible_ys, possible_xs)\n",
        "possible_xs2, possible_ys2 = np.vstack([xx.ravel(), yy.ravel()])"
      ],
      "outputs": [],
      "execution_count": 16,
      "metadata": {
        "collapsed": false,
        "outputHidden": false,
        "inputHidden": false
      }
    },
    {
      "cell_type": "markdown",
      "source": [
        "Then sort out fields that are outside the maze boundaries"
      ],
      "metadata": {
        "collapsed": false,
        "outputHidden": false,
        "inputHidden": false
      }
    },
    {
      "cell_type": "code",
      "source": [
        "mask = (possible_xs2 < maze_width) & (possible_xs2 >= 0) & (possible_ys2 >= 0) & (possible_ys2 < maze_height)\n",
        "possible_xs2 = possible_xs2[mask]\n",
        "possible_ys2 = possible_ys2[mask]"
      ],
      "outputs": [],
      "execution_count": 17,
      "metadata": {
        "collapsed": false,
        "outputHidden": false,
        "inputHidden": false
      }
    },
    {
      "cell_type": "markdown",
      "source": [
        "Now we can assign values to the fields in the maze, which correspond to the probability of having an enemy on it"
      ],
      "metadata": {}
    },
    {
      "cell_type": "code",
      "source": [
        "maze_width = max([x for x, y in bot.walls])+1\n",
        "maze_height = max([y for x, y in bot.walls])+1\n",
        "# add a small eps value to the zeros, so we can display log-values. Otherwise we can't see small activations\n",
        "enemy_prob = np.zeros((maze_height, maze_width))+np.finfo(float).eps\n",
        "enemy_prob[possible_ys2,possible_xs2] = 1/(len(possible_ys)*len(possible_xs))\n",
        "enemy_prob[bot.enemy[0].position[1], bot.enemy[0].position[0]] = 1"
      ],
      "outputs": [],
      "execution_count": 18,
      "metadata": {
        "collapsed": false,
        "outputHidden": false,
        "inputHidden": false
      }
    },
    {
      "cell_type": "markdown",
      "source": [
        "Plot the Probabilities using pyplot:"
      ],
      "metadata": {}
    },
    {
      "cell_type": "code",
      "source": [
        "fig, ax = plt.subplots()\n",
        "ax.imshow(enemy_prob, norm=matplotlib.colors.LogNorm(), cmap=\"Reds\")\n",
        "ax = draw_game_elements(bot, ax)"
      ],
      "outputs": [
        {
          "output_type": "display_data",
          "data": {
            "text/plain": [
              "<Figure size 432x288 with 1 Axes>"
            ],
            "image/png": "[encoded data removed]"
          },
          "metadata": {
            "needs_background": "light"
          }
        }
      ],
      "execution_count": 19,
      "metadata": {
        "collapsed": false,
        "outputHidden": false,
        "inputHidden": false
      }
    },
    {
      "cell_type": "markdown",
      "source": [
        "When the enemy is closer (e.g. 6 fields away), the noise makes it possible for it to report being right next to you, like it would be possible in this example, using the same procedure as above:"
      ],
      "metadata": {}
    },
    {
      "cell_type": "code",
      "source": [
        "layout_str=\"\"\"\n",
        "################################\n",
        "#   ...    #. .         . #    #\n",
        "# #####.## ..# #######.##      #\n",
        "#.  0 . . ?# # ##    .  # #    #\n",
        "#  ###### ## #        #.#.     #\n",
        "#  #       #           .# #.## #\n",
        "#.     #  ..     ..###### # .# #\n",
        "##..######  #####  ..    .#.   #\n",
        "#   .#.    ..  #####  ######..##\n",
        "# #. # ######..     ..  #     .#\n",
        "# ##.# #.           #       #  #\n",
        "#    E.#.#        # ## ######  #\n",
        "#    # #  .    ## # #  . .    .#\n",
        "#      ##.####### #.. ##.##### #\n",
        "#1   # .         . .#    ...   #\n",
        "################################\n",
        "\"\"\"\n",
        "bot = pl.utils.setup_test_game(layout=layout_str, is_blue=True)\n",
        "maze_width = max([x for x, y in bot.walls])+1\n",
        "maze_height = max([y for x, y in bot.walls])+1\n",
        "possible_ys = np.linspace(-5,5,11, dtype=int) + bot.enemy[1].position[1]\n",
        "possible_xs = np.linspace(-5,5,11, dtype=int) + bot.enemy[1].position[0]\n",
        "yy, xx = np.meshgrid(possible_ys, possible_xs)\n",
        "possible_xs2, possible_ys2 = np.vstack([xx.ravel(), yy.ravel()])\n",
        "mask = (possible_xs2 < maze_width) & (possible_xs2 >= 0) & (possible_ys2 >= 0) & (possible_ys2 < maze_height)\n",
        "possible_xs2 = possible_xs2[mask]\n",
        "possible_ys2 = possible_ys2[mask]\n",
        "enemy_prob = np.zeros((maze_height, maze_width))+np.finfo(float).eps\n",
        "enemy_prob[possible_ys2,possible_xs2] = 1/(len(possible_ys)*len(possible_xs))\n",
        "enemy_prob[bot.enemy[0].position[1], bot.enemy[0].position[0]] = 1\n",
        "\n",
        "fig, ax = plt.subplots()\n",
        "ax.imshow(enemy_prob, norm=matplotlib.colors.LogNorm(), cmap=\"Reds\")\n",
        "ax = draw_game_elements(bot, ax)"
      ],
      "outputs": [
        {
          "output_type": "display_data",
          "data": {
            "text/plain": [
              "<Figure size 432x288 with 1 Axes>"
            ],
            "image/png": "[encoded data removed]"
          },
          "metadata": {
            "needs_background": "light"
          }
        }
      ],
      "execution_count": 20,
      "metadata": {
        "collapsed": false,
        "outputHidden": false,
        "inputHidden": false
      }
    },
    {
      "cell_type": "code",
      "source": [],
      "outputs": [],
      "execution_count": null,
      "metadata": {
        "collapsed": false,
        "outputHidden": false,
        "inputHidden": false
      }
    }
  ],
  "metadata": {
    "kernel_info": {
      "name": "pelita_env"
    },
    "language_info": {
      "name": "python",
      "version": "3.6.3",
      "mimetype": "text/x-python",
      "codemirror_mode": {
        "name": "ipython",
        "version": 3
      },
      "pygments_lexer": "ipython3",
      "nbconvert_exporter": "python",
      "file_extension": ".py"
    },
    "kernelspec": {
      "name": "pelita_env",
      "language": "python",
      "display_name": "Python3 (pelita_env)"
    },
    "nteract": {
      "version": "0.12.3"
    }
  },
  "nbformat": 4,
  "nbformat_minor": 4
}