{
  "cells": [
    {
      "cell_type": "markdown",
      "source": [
        "# Using Pelita with Numpy and Matplotlib"
      ],
      "metadata": {}
    },
    {
      "cell_type": "code",
      "source": [
        "import utils \n",
        "import pelita as pl\n",
        "from matplotlib import pyplot as plt\n",
        "import numpy as np"
      ],
      "outputs": [],
      "execution_count": 31,
      "metadata": {
        "collapsed": false,
        "outputHidden": false,
        "inputHidden": false
      }
    },
    {
      "cell_type": "markdown",
      "source": [
        "Get a random layout"
      ],
      "metadata": {}
    },
    {
      "cell_type": "code",
      "source": [
        "layout_str = pl.layout.get_random_layout(\"normal_without_dead_ends\")[1]\n",
        "layout_str"
      ],
      "outputs": [
        {
          "output_type": "execute_result",
          "execution_count": 32,
          "data": {
            "text/plain": [
              "'################################\\n#  ... #     . ##  .     .    3#\\n# .#   . .    .  . ####### ## 1#\\n#    # #######    .  #.    #   #\\n# .#        .      # # ... #   #\\n# ## ########  ##  # .     # # #\\n#   .  .    #  ## .###### ##.# #\\n# .  ####.#      ..#  .  .# .  #\\n#  . #.  .  #..      #.####  . #\\n# #.## ######. ##  #    .  .   #\\n# # #     . #  ##  ######## ## #\\n#   # ... # #      .        #. #\\n#   #    .#  .    ####### #    #\\n#0 ## ####### .  .    . .   #. #\\n#2    .     .  ## .     # ...  #\\n################################\\n'"
            ]
          },
          "metadata": {}
        }
      ],
      "execution_count": 32,
      "metadata": {
        "collapsed": false,
        "outputHidden": false,
        "inputHidden": false
      }
    },
    {
      "cell_type": "markdown",
      "source": [
        "Convert it to a \"user\" layout"
      ],
      "metadata": {}
    },
    {
      "cell_type": "code",
      "source": [
        "\n",
        "layout_str=layout_str.replace('1', 'E')\n",
        "layout_str=layout_str.replace('3', 'E')\n",
        "layout_str=layout_str.replace('2', '1')\n",
        "layout_str"
      ],
      "outputs": [
        {
          "output_type": "execute_result",
          "execution_count": 33,
          "data": {
            "text/plain": [
              "'################################\\n#  ... #     . ##  .     .    E#\\n# .#   . .    .  . ####### ## E#\\n#    # #######    .  #.    #   #\\n# .#        .      # # ... #   #\\n# ## ########  ##  # .     # # #\\n#   .  .    #  ## .###### ##.# #\\n# .  ####.#      ..#  .  .# .  #\\n#  . #.  .  #..      #.####  . #\\n# #.## ######. ##  #    .  .   #\\n# # #     . #  ##  ######## ## #\\n#   # ... # #      .        #. #\\n#   #    .#  .    ####### #    #\\n#0 ## ####### .  .    . .   #. #\\n#1    .     .  ## .     # ...  #\\n################################\\n'"
            ]
          },
          "metadata": {}
        }
      ],
      "execution_count": 33,
      "metadata": {
        "collapsed": false,
        "outputHidden": false,
        "inputHidden": false
      }
    },
    {
      "cell_type": "markdown",
      "source": [
        "Set up a test game to get a bot object"
      ],
      "metadata": {}
    },
    {
      "cell_type": "code",
      "source": [
        "bot = pl.utils.setup_test_game(layout=layout_str, is_blue=True)"
      ],
      "outputs": [],
      "execution_count": 34,
      "metadata": {
        "collapsed": false,
        "outputHidden": false,
        "inputHidden": false
      }
    },
    {
      "cell_type": "markdown",
      "source": [
        "We can use pyplot to visualize the game state. You can use `plt.scatter()` to add points to a plot. Watch out though, scatter takes a list of x and a list of y coordinates, not a list of (x,y) tuples.\n",
        "\nThe `draw_game_elements` function in `utils` gets the information about food, bot positions, and wall positions from the bot object and adds them to a pyplot."
      ],
      "metadata": {}
    },
    {
      "cell_type": "code",
      "source": [
        "fig, ax = plt.subplots()\n",
        "ax = utils.draw_game_elements(bot, ax)"
      ],
      "outputs": [
        {
          "output_type": "display_data",
          "data": {
            "text/plain": [
              "<Figure size 432x288 with 1 Axes>"
            ],
            "image/png": "[encoded data removed]"
          },
          "metadata": {
            "needs_background": "light"
          }
        }
      ],
      "execution_count": 35,
      "metadata": {
        "collapsed": false,
        "outputHidden": false,
        "inputHidden": false
      }
    },
    {
      "cell_type": "markdown",
      "source": [
        "You can also use numpy matrices. Be aware that the indexing of numpy matrices, works by \\[row,column] and not by \\[x,y] coordinates. "
      ],
      "metadata": {}
    },
    {
      "cell_type": "code",
      "source": [
        "walls = utils.make_wall_matrix(bot)\n",
        "fig, ax = plt.subplots()\n",
        "ax.imshow(walls)"
      ],
      "outputs": [
        {
          "output_type": "execute_result",
          "execution_count": 36,
          "data": {
            "text/plain": [
              "<matplotlib.image.AxesImage at 0x12d645f98>"
            ]
          },
          "metadata": {}
        },
        {
          "output_type": "display_data",
          "data": {
            "text/plain": [
              "<Figure size 432x288 with 1 Axes>"
            ],
            "image/png": "[encoded data removed]"
          },
          "metadata": {
            "needs_background": "light"
          }
        }
      ],
      "execution_count": 36,
      "metadata": {
        "collapsed": false,
        "outputHidden": false,
        "inputHidden": false
      }
    },
    {
      "cell_type": "markdown",
      "source": [
        "Numpy matrices can be shown underneath a scatter plot."
      ],
      "metadata": {}
    },
    {
      "cell_type": "code",
      "source": [
        "fig, ax = plt.subplots()\n",
        "ax.imshow(walls, cmap=\"binary\")\n",
        "ax = utils.draw_game_elements(bot, ax)"
      ],
      "outputs": [
        {
          "output_type": "display_data",
          "data": {
            "text/plain": [
              "<Figure size 432x288 with 1 Axes>"
            ],
            "image/png": "[encoded data removed]"
          },
          "metadata": {
            "needs_background": "light"
          }
        }
      ],
      "execution_count": 37,
      "metadata": {
        "collapsed": false,
        "outputHidden": false,
        "inputHidden": false
      }
    },
    {
      "cell_type": "markdown",
      "source": [
        "This might also come in handy when you are looking at possible next moves. For example you could visualize your bot's legal moves like this:"
      ],
      "metadata": {
        "collapsed": false,
        "outputHidden": false,
        "inputHidden": false
      }
    },
    {
      "cell_type": "code",
      "source": [
        "maze_width = max([x for x, y in bot.walls])+1\n",
        "maze_height = max([y for x, y in bot.walls])+1\n",
        "mat = np.zeros((maze_height, maze_width))"
      ],
      "outputs": [],
      "execution_count": 38,
      "metadata": {
        "collapsed": false,
        "outputHidden": false,
        "inputHidden": false
      }
    },
    {
      "cell_type": "code",
      "source": [
        "mat = utils.replace_coords_in_matrix(mat, bot.legal_positions, 1)"
      ],
      "outputs": [],
      "execution_count": 39,
      "metadata": {
        "collapsed": false,
        "outputHidden": false,
        "inputHidden": false
      }
    },
    {
      "cell_type": "code",
      "source": [
        "fig, ax = plt.subplots()\n",
        "ax.imshow(mat, cmap=\"Reds\")"
      ],
      "outputs": [
        {
          "output_type": "execute_result",
          "execution_count": 40,
          "data": {
            "text/plain": [
              "<matplotlib.image.AxesImage at 0x12db7e860>"
            ]
          },
          "metadata": {}
        },
        {
          "output_type": "display_data",
          "data": {
            "text/plain": [
              "<Figure size 432x288 with 1 Axes>"
            ],
            "image/png": "[encoded data removed]"
          },
          "metadata": {
            "needs_background": "light"
          }
        }
      ],
      "execution_count": 40,
      "metadata": {
        "collapsed": false,
        "outputHidden": false,
        "inputHidden": false
      }
    },
    {
      "cell_type": "markdown",
      "source": [
        "And then add the game elements on top of the matrix:"
      ],
      "metadata": {}
    },
    {
      "cell_type": "code",
      "source": [
        "fig, ax = plt.subplots()\n",
        "ax.imshow(mat, cmap=\"Reds\")\n",
        "ax = utils.draw_game_elements(bot, ax)"
      ],
      "outputs": [
        {
          "output_type": "display_data",
          "data": {
            "text/plain": [
              "<Figure size 432x288 with 1 Axes>"
            ],
            "image/png": "[encoded data removed]"
          },
          "metadata": {
            "needs_background": "light"
          }
        }
      ],
      "execution_count": 41,
      "metadata": {
        "collapsed": false,
        "outputHidden": false,
        "inputHidden": false
      }
    },
    {
      "cell_type": "code",
      "source": [],
      "outputs": [],
      "execution_count": null,
      "metadata": {
        "collapsed": false,
        "outputHidden": false,
        "inputHidden": false
      }
    }
  ],
  "metadata": {
    "kernel_info": {
      "name": "pelita_env"
    },
    "language_info": {
      "name": "python",
      "version": "3.6.3",
      "mimetype": "text/x-python",
      "codemirror_mode": {
        "name": "ipython",
        "version": 3
      },
      "pygments_lexer": "ipython3",
      "nbconvert_exporter": "python",
      "file_extension": ".py"
    },
    "kernelspec": {
      "name": "pelita_env",
      "language": "python",
      "display_name": "Python3 (pelita_env)"
    },
    "nteract": {
      "version": "0.12.3"
    }
  },
  "nbformat": 4,
  "nbformat_minor": 4
}